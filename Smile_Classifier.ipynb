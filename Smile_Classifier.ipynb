{
  "nbformat": 4,
  "nbformat_minor": 0,
  "metadata": {
    "colab": {
      "provenance": []
    },
    "kernelspec": {
      "name": "python3",
      "display_name": "Python 3"
    },
    "language_info": {
      "name": "python"
    }
  },
  "cells": [
    {
      "cell_type": "markdown",
      "source": [
        "## Import Libraries"
      ],
      "metadata": {
        "id": "7gnch3BkArQh"
      }
    },
    {
      "cell_type": "code",
      "execution_count": null,
      "metadata": {
        "id": "NoX-MvDnAnNM"
      },
      "outputs": [],
      "source": [
        "import numpy as np\n",
        "import pandas as pd\n",
        "import matplotlib.pyplot as plt\n",
        "import seaborn as sns\n",
        "import torch\n",
        "import cv2 as cv\n",
        "from google.colab.patches import cv2_imshow\n",
        "from google.colab import drive\n",
        "import os\n"
      ]
    },
    {
      "cell_type": "code",
      "source": [
        "# mount drive\n",
        "drive.mount('/content/drive')\n",
        "\n",
        "folder_path = '/content/drive/My Drive/Image'\n"
      ],
      "metadata": {
        "colab": {
          "base_uri": "https://localhost:8080/"
        },
        "id": "G4x7k-9lBXy2",
        "outputId": "642288bf-c89f-40ba-de30-1a13b1569e31"
      },
      "execution_count": null,
      "outputs": [
        {
          "output_type": "stream",
          "name": "stdout",
          "text": [
            "Mounted at /content/drive\n"
          ]
        }
      ]
    },
    {
      "cell_type": "markdown",
      "source": [
        "## Import Images with Labels"
      ],
      "metadata": {
        "id": "CNRF-5xUA8ee"
      }
    },
    {
      "cell_type": "code",
      "source": [
        "# Seeing a random picture\n",
        "img = cv.imread(folder_path+\"/non_smile/Aaron_Eckhart_0001.jpg\", 1)\n",
        "#print(img)\n",
        "plt.imshow(img)\n",
        "plt.show()"
      ],
      "metadata": {
        "colab": {
          "base_uri": "https://localhost:8080/",
          "height": 432
        },
        "id": "COtCKtqTA7jR",
        "outputId": "43422c97-b763-4261-ad82-a69117227cc4"
      },
      "execution_count": null,
      "outputs": [
        {
          "output_type": "display_data",
          "data": {
            "text/plain": [
              "<Figure size 640x480 with 1 Axes>"
            ],
            "image/png": "[encoded data removed]"
          },
          "metadata": {}
        }
      ]
    },
    {
      "cell_type": "markdown",
      "source": [
        "Importing all images along with their labels. Also resizing the images into 64*64 pixels. Then flattened the 3 dimensional array into 1 dimensional. As ML models like SVC, RF takes 1D arrays as input."
      ],
      "metadata": {
        "id": "a5RJ_ZCxLOCw"
      }
    },
    {
      "cell_type": "code",
      "source": [
        "def read_images(dir,data,label):\n",
        "  for file in os.listdir(dir):\n",
        "    if file.endswith(\".jpg\"):\n",
        "      image = np.array(cv.imread(dir+file,1))\n",
        "      image = cv.resize(image, (64,64)).flatten()\n",
        "      data['image'].append(image)\n",
        "      data['label'].append(label)\n",
        "\n",
        "def read_files(dir):\n",
        "  data = {\n",
        "      \"image\":[],\n",
        "      'label':[]\n",
        "  }\n",
        "  dir_smile = dir + '/smile/'\n",
        "  label = 1\n",
        "  read_images(dir_smile, data, label)\n",
        "\n",
        "  dir_non_smile = dir + '/non_smile/'\n",
        "  label = 0\n",
        "  read_images(dir_non_smile, data, label)\n",
        "\n",
        "  return data\n",
        "data = read_files(folder_path)"
      ],
      "metadata": {
        "id": "gGFNrNghDkVK"
      },
      "execution_count": null,
      "outputs": []
    },
    {
      "cell_type": "code",
      "source": [
        "print(len(data['image']))\n",
        "print(data['image'][100].shape)\n",
        "print(data['image'][0])\n",
        "#print(data)"
      ],
      "metadata": {
        "colab": {
          "base_uri": "https://localhost:8080/"
        },
        "id": "jz6iKWEVW_mu",
        "outputId": "9dc8023a-7b7c-4151-9712-bce5c582ac05"
      },
      "execution_count": null,
      "outputs": [
        {
          "output_type": "stream",
          "name": "stdout",
          "text": [
            "1203\n",
            "(12288,)\n",
            "[ 68 109 132 ...  43  70  90]\n"
          ]
        }
      ]
    },
    {
      "cell_type": "markdown",
      "source": [
        "## Training model"
      ],
      "metadata": {
        "id": "0IQZ_PAEbEwF"
      }
    },
    {
      "cell_type": "markdown",
      "source": [
        "Imported all necessary library"
      ],
      "metadata": {
        "id": "dgab97IqL0JY"
      }
    },
    {
      "cell_type": "code",
      "source": [
        "from sklearn.model_selection import train_test_split\n",
        "from sklearn.metrics import classification_report\n",
        "from sklearn.metrics import accuracy_score\n",
        "#from sklearn.externals import joblib\n",
        "import pickle"
      ],
      "metadata": {
        "id": "RlSp0jT_xgOI"
      },
      "execution_count": null,
      "outputs": []
    },
    {
      "cell_type": "code",
      "source": [
        "X = data['image']\n",
        "y = data['label']"
      ],
      "metadata": {
        "id": "z--4hu6vtrEV"
      },
      "execution_count": null,
      "outputs": []
    },
    {
      "cell_type": "markdown",
      "source": [
        "Spliting the data into train and validation set. Here y contains the target label and X contains the input features."
      ],
      "metadata": {
        "id": "bBtjzVgxL6jj"
      }
    },
    {
      "cell_type": "code",
      "source": [
        "X_train, X_val, y_train, y_val = train_test_split(X, y, test_size=0.2, random_state=42)"
      ],
      "metadata": {
        "id": "rAy5Uvf9tI--"
      },
      "execution_count": null,
      "outputs": []
    },
    {
      "cell_type": "markdown",
      "source": [
        "## Support Vector Machine"
      ],
      "metadata": {
        "id": "55yP5654wvsm"
      }
    },
    {
      "cell_type": "code",
      "source": [
        "from sklearn import svm\n",
        "svc = svm.SVC(kernel='linear')\n",
        "svc.fit(X_train, y_train)\n",
        "\n",
        "# Saving the model\n",
        "with open(folder_path+'smile_svc.pkl','wb') as f:\n",
        "    pickle.dump(svc,f)\n",
        "# Importing the model\n",
        "with open(folder_path+'smile_svc.pkl', 'rb') as f:\n",
        "    svc2 = pickle.load(f)\n",
        "# Predicting on Validation set\n",
        "svc_predicted = svc2.predict(X_val)"
      ],
      "metadata": {
        "id": "MZpyCakwXCP9"
      },
      "execution_count": null,
      "outputs": []
    },
    {
      "cell_type": "code",
      "source": [
        "# Showing the accuracy\n",
        "accuracy_score(y_val, svc_predicted)"
      ],
      "metadata": {
        "colab": {
          "base_uri": "https://localhost:8080/"
        },
        "id": "n2nYvY5qv3DW",
        "outputId": "21de9b23-828d-4618-c1ab-a4e89d69507e"
      },
      "execution_count": null,
      "outputs": [
        {
          "output_type": "execute_result",
          "data": {
            "text/plain": [
              "0.8879668049792531"
            ]
          },
          "metadata": {},
          "execution_count": 11
        }
      ]
    },
    {
      "cell_type": "code",
      "source": [
        "# F1 Score\n",
        "print(classification_report(y_val, svc_predicted, target_names=['non_smile','smile'], digits=4))"
      ],
      "metadata": {
        "colab": {
          "base_uri": "https://localhost:8080/"
        },
        "id": "TMevcFXzxoH_",
        "outputId": "f4466734-2fc2-4710-939a-6eb94e437253"
      },
      "execution_count": null,
      "outputs": [
        {
          "output_type": "stream",
          "name": "stdout",
          "text": [
            "              precision    recall  f1-score   support\n",
            "\n",
            "   non_smile     0.8450    0.9397    0.8898       116\n",
            "       smile     0.9375    0.8400    0.8861       125\n",
            "\n",
            "    accuracy                         0.8880       241\n",
            "   macro avg     0.8912    0.8898    0.8879       241\n",
            "weighted avg     0.8930    0.8880    0.8879       241\n",
            "\n"
          ]
        }
      ]
    },
    {
      "cell_type": "markdown",
      "source": [
        "### Random Forest"
      ],
      "metadata": {
        "id": "E1QFD8d5yCt-"
      }
    },
    {
      "cell_type": "code",
      "source": [
        "from sklearn.ensemble import RandomForestClassifier\n",
        "rfc = RandomForestClassifier(max_depth=10, random_state=0)\n",
        "rfc.fit(X_train, y_train)\n",
        "\n",
        "with open(folder_path+'smile_rfc.pkl','wb') as f:\n",
        "    pickle.dump(rfc,f)\n",
        "with open(folder_path+'smile_rfc.pkl', 'rb') as f:\n",
        "    rfc2 = pickle.load(f)"
      ],
      "metadata": {
        "id": "nRn0CHcOxtft"
      },
      "execution_count": null,
      "outputs": []
    },
    {
      "cell_type": "code",
      "source": [
        "rfc_predicted = rfc2.predict(X_val)\n",
        "accuracy_score(y_val, rfc_predicted)"
      ],
      "metadata": {
        "colab": {
          "base_uri": "https://localhost:8080/"
        },
        "id": "F8JdHZYay4hX",
        "outputId": "5e67e85c-b42f-4743-dd0d-d6afa42d6c30"
      },
      "execution_count": null,
      "outputs": [
        {
          "output_type": "execute_result",
          "data": {
            "text/plain": [
              "0.8464730290456431"
            ]
          },
          "metadata": {},
          "execution_count": 14
        }
      ]
    },
    {
      "cell_type": "code",
      "source": [
        "print(classification_report(y_val, rfc_predicted, target_names=['non_smile','smile'], digits=4))"
      ],
      "metadata": {
        "colab": {
          "base_uri": "https://localhost:8080/"
        },
        "id": "NJtw8h2Ty6me",
        "outputId": "554e0c43-f130-4de3-9dca-f8efb23e316f"
      },
      "execution_count": null,
      "outputs": [
        {
          "output_type": "stream",
          "name": "stdout",
          "text": [
            "              precision    recall  f1-score   support\n",
            "\n",
            "   non_smile     0.7842    0.9397    0.8549       116\n",
            "       smile     0.9314    0.7600    0.8370       125\n",
            "\n",
            "    accuracy                         0.8465       241\n",
            "   macro avg     0.8578    0.8498    0.8460       241\n",
            "weighted avg     0.8605    0.8465    0.8456       241\n",
            "\n"
          ]
        }
      ]
    }
  ]
}